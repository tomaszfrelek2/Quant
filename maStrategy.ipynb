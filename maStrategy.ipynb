{
 "cells": [
  {
   "cell_type": "code",
   "execution_count": 1,
   "metadata": {},
   "outputs": [],
   "source": [
    "import numpy as np\n",
    "import pandas as pd\n",
    "import matplotlib.pyplot as plt\n",
    "\n",
    "%matplotlib inline"
   ]
  },
  {
   "cell_type": "code",
   "execution_count": 2,
   "metadata": {},
   "outputs": [],
   "source": [
    "prices = pd.read_csv('EURUSD60.csv')"
   ]
  },
  {
   "cell_type": "code",
   "execution_count": 3,
   "metadata": {},
   "outputs": [],
   "source": [
    "data = prices[['Open','High','Low','Close']].values"
   ]
  },
  {
   "cell_type": "code",
   "execution_count": 15,
   "metadata": {},
   "outputs": [],
   "source": [
    "daily = pd.read_csv('EURUSD1440.csv')"
   ]
  },
  {
   "cell_type": "code",
   "execution_count": 16,
   "metadata": {},
   "outputs": [],
   "source": [
    "dailyData = daily[['Open','High','Low','Close']].values"
   ]
  },
  {
   "cell_type": "code",
   "execution_count": 4,
   "metadata": {},
   "outputs": [],
   "source": [
    "aapl = pd.read_csv('AAPL.csv')"
   ]
  },
  {
   "cell_type": "code",
   "execution_count": 5,
   "metadata": {},
   "outputs": [],
   "source": [
    "aaplData = aapl[['Open','High','Low','Close']].values"
   ]
  },
  {
   "cell_type": "code",
   "execution_count": 6,
   "metadata": {},
   "outputs": [],
   "source": [
    "def createMA(data, maLength):\n",
    "    movingAverage = np.zeros(len(data))\n",
    "    total = 0\n",
    "    for bar in range(len(data)):\n",
    "        if (bar >= maLength - 1):\n",
    "            for previousBars in range(maLength):\n",
    "                total += data[bar - previousBars][3]\n",
    "            movingAverage[bar] = total / maLength\n",
    "            total = 0\n",
    "    return movingAverage"
   ]
  },
  {
   "cell_type": "code",
   "execution_count": 7,
   "metadata": {},
   "outputs": [],
   "source": [
    "def backtest(data, param1, param2):\n",
    "    trades = []\n",
    "    start = 0;\n",
    "    end = 0;\n",
    "    longPosition = False\n",
    "    shortPosition = False\n",
    "    \n",
    "    #technical indicators\n",
    "    global fastMA\n",
    "    global slowMA\n",
    "    fastMA = createMA(data, param1)\n",
    "    slowMA = createMA(data, param2)\n",
    "    \n",
    "    for bar in range(len(data)):\n",
    "        \n",
    "        #close long position if exit criteria are met\n",
    "        if (longPosition):\n",
    "            a = checkExit(bar)\n",
    "            if (a[0]):\n",
    "                if (a[1] == 1):\n",
    "                    longPosition = False\n",
    "                    end = data[bar][3]\n",
    "                    trades.append(end - start)\n",
    "                    print(trades[len(trades) - 1])\n",
    "        \n",
    "        #close short position if exit criteria are met\n",
    "        if (shortPosition):\n",
    "            a = checkExit(bar)\n",
    "            if (a[0]):\n",
    "                if (a[1] == 0):\n",
    "                    shortPosition = False\n",
    "                    end = data[bar][3]\n",
    "                    trades.append(start - end)\n",
    "                    print(trades[len(trades) - 1])\n",
    "        \n",
    "        #check long and short entry criteria and enter position if criteria met\n",
    "        if not(longPosition) and not(shortPosition):\n",
    "            a = checkEntry(bar)\n",
    "            if (a[0]):\n",
    "                if (a[1] == 1):\n",
    "                    longPosition = True\n",
    "                    start = data[bar][3]\n",
    "                if (a[1] == 0):\n",
    "                    shortPosition = True\n",
    "                    start = data[bar][3]\n",
    "    \n",
    "    return trades"
   ]
  },
  {
   "cell_type": "code",
   "execution_count": 8,
   "metadata": {},
   "outputs": [],
   "source": [
    "def checkEntry(bar):\n",
    "    \n",
    "    #long entry\n",
    "    if (fastMA[bar - 1] < slowMA[bar - 1] and fastMA[bar] > slowMA[bar]):\n",
    "        return (True, 1);\n",
    "    \n",
    "    #short entry\n",
    "    elif (fastMA[bar - 1] > slowMA[bar - 1] and fastMA[bar] < slowMA[bar]):\n",
    "        return (True, 0);\n",
    "    \n",
    "    #no entry\n",
    "    else:\n",
    "        return (False, 0);"
   ]
  },
  {
   "cell_type": "code",
   "execution_count": 9,
   "metadata": {},
   "outputs": [],
   "source": [
    "def checkExit(bar):\n",
    "    \n",
    "    #long exit\n",
    "    if (fastMA[bar - 1] > slowMA[bar - 1] and fastMA[bar] < slowMA[bar]):\n",
    "        return (True, 1);\n",
    "    \n",
    "    #short exit\n",
    "    elif (fastMA[bar - 1] < slowMA[bar - 1] and fastMA[bar] > slowMA[bar]):\n",
    "        return (True, 0);\n",
    "    \n",
    "    #no exit\n",
    "    else:\n",
    "        return (False, 0);"
   ]
  },
  {
   "cell_type": "code",
   "execution_count": 10,
   "metadata": {},
   "outputs": [
    {
     "name": "stdout",
     "output_type": "stream",
     "text": [
      "-0.10602678499999996\n",
      "-0.020089285000000068\n",
      "-0.0703125\n",
      "-0.02399553599999993\n",
      "-0.002232142999999853\n",
      "-0.057477679000000004\n",
      "0.09263392799999981\n",
      "-0.06584821500000004\n",
      "-0.03459821500000004\n",
      "-0.06584821500000004\n",
      "-0.044642856999999814\n",
      "-0.02678571399999985\n",
      "-0.08928571399999985\n",
      "-0.05133928499999996\n",
      "0.5970982149999999\n",
      "0.05125000000000002\n",
      "0.005892857000000029\n",
      "0.016607143000000046\n",
      "-0.044999999999999984\n",
      "-0.02303571400000004\n",
      "-0.029642857000000022\n",
      "-0.07857142899999997\n",
      "0.03517857100000005\n",
      "0.06267857100000002\n",
      "-0.03875000000000001\n",
      "-0.03517857099999999\n",
      "-0.04625000000000001\n",
      "-0.014821428999999997\n",
      "-0.017857142999999964\n",
      "-0.00607142799999999\n",
      "-0.020714285\n",
      "-0.01714285700000001\n",
      "0.003035713999999967\n",
      "-0.0030357140000000227\n",
      "0.15749999999999997\n",
      "-0.01874999999999999\n",
      "-0.013749999999999984\n",
      "0.0016071429999999776\n",
      "-0.003928570999999992\n",
      "-0.0071428570000000025\n",
      "-0.008571428000000048\n",
      "-0.016071428000000054\n",
      "-0.007321428000000019\n",
      "-0.00660714200000001\n",
      "-0.0007142849999999812\n",
      "0.11142857200000006\n",
      "-0.028571427999999954\n",
      "-0.0069642850000000145\n",
      "-0.004821428000000072\n",
      "0.06446428599999993\n",
      "-0.02517857100000004\n",
      "-0.009821427999999965\n",
      "-0.012499999999999956\n",
      "0.03999999999999998\n",
      "-0.05982142800000001\n",
      "-0.05625000000000002\n",
      "-0.058392857000000076\n",
      "0.8755357149999998\n",
      "0.04785714299999966\n",
      "-0.11285714300000027\n",
      "-0.06321428600000001\n",
      "-0.06928571499999991\n",
      "-0.04499999999999993\n",
      "1.2285714289999998\n",
      "-0.12428571399999999\n",
      "-0.13071428499999982\n",
      "0.0735714289999998\n",
      "-0.17785714300000022\n",
      "-0.1007142860000001\n",
      "-0.08464285699999996\n",
      "0.13714285700000017\n",
      "0.7421428570000002\n",
      "-0.11678571400000015\n",
      "0.008214285999999849\n",
      "-0.13607142799999972\n",
      "-0.17499999999999982\n",
      "-0.11107142900000033\n",
      "1.3314285709999996\n",
      "-0.21678571500000032\n",
      "1.4349999999999996\n",
      "1.1328571429999998\n",
      "1.3325000000000005\n",
      "-0.16392857100000047\n",
      "-0.29535714300000127\n",
      "-0.1275000000000004\n",
      "-0.3489285710000001\n",
      "2.389285714\n",
      "-0.18964285799999958\n",
      "-0.024285714999999986\n",
      "-0.2239285720000006\n",
      "-0.18000000000000016\n",
      "-0.2589285709999998\n",
      "-0.335714286\n",
      "3.4632142849999994\n",
      "-0.2514285720000009\n",
      "0.09678571400000013\n",
      "-0.17178571399999942\n",
      "-0.5650000000000004\n",
      "-0.37464285700000044\n",
      "-0.03142857100000018\n",
      "-0.2614285710000006\n",
      "1.190357143\n",
      "-0.3939285720000001\n",
      "-0.3625000000000007\n",
      "-0.3957142850000004\n",
      "-0.2071428570000009\n",
      "-0.3978571430000013\n",
      "-0.24607142800000048\n",
      "-0.2575000000000003\n",
      "-0.34821428600000104\n",
      "-0.3064285710000014\n",
      "2.544285715999999\n",
      "-0.7296428600000002\n",
      "-0.21000000000000085\n",
      "-0.30178571000000076\n",
      "-0.7039285700000004\n",
      "-0.43607143000000015\n",
      "-0.4810714300000001\n",
      "-0.6210714300000006\n",
      "0.2503571400000002\n",
      "-0.6128571399999991\n",
      "0.03571428999999959\n",
      "-0.9175000000000004\n",
      "-0.5596428600000003\n",
      "-0.22607143000000107\n",
      "-0.010357139999999987\n",
      "-0.10571427999999905\n",
      "-0.4796428499999994\n",
      "-0.6557142799999998\n",
      "5.776071430000002\n",
      "-1.7757142899999998\n",
      "-1.0064285800000015\n",
      "-0.19964286000000087\n",
      "-0.4610714300000005\n",
      "-0.33928571999999946\n",
      "0.041428570000000775\n",
      "-0.35249999999999915\n",
      "1.5407142799999995\n",
      "6.235357139999998\n",
      "-0.7471428600000021\n",
      "0.12035713999999942\n",
      "-0.21535714000000006\n",
      "-0.34535714000000084\n",
      "-0.46000000000000085\n",
      "-0.3017857199999998\n",
      "0.4150000000000009\n",
      "-1.4471428499999988\n",
      "1.6385714300000025\n",
      "-0.744285719999997\n",
      "-1.8164285800000002\n",
      "-1.410357150000003\n",
      "-0.5300000000000011\n",
      "-0.19500000000000028\n",
      "-0.42571429000000194\n",
      "-0.292142860000002\n",
      "-0.33678572000000173\n",
      "-1.5832142900000008\n",
      "4.41\n",
      "-0.5124999999999993\n",
      "-0.8149999999999977\n",
      "-1.3624999999999972\n",
      "0.9400000000000013\n",
      "-1.4750000000000014\n",
      "-0.8300000000000018\n",
      "-0.942499999999999\n",
      "-0.9899999999999984\n",
      "-1.5425000000000004\n",
      "2.3599999999999994\n",
      "-0.9675000000000011\n",
      "-0.9024999999999999\n",
      "-0.21499999999999986\n",
      "0.03500000000000014\n",
      "-0.7349999999999959\n",
      "-0.38249999999999673\n",
      "-0.2925000000000004\n",
      "-0.3550000000000004\n",
      "-0.6125000000000007\n",
      "-1.115000000000002\n",
      "2.8475\n",
      "0.1025000000000027\n",
      "-0.7774999999999999\n",
      "-1.0274999999999999\n",
      "3.1075000000000017\n",
      "-0.7325000000000017\n",
      "0.2849999999999966\n",
      "3.727499999999999\n",
      "-0.42749999999999844\n",
      "8.322500000000002\n",
      "-0.8725000000000023\n",
      "0.8274999999999935\n",
      "-1.7700000000000031\n",
      "-1.0549999999999997\n",
      "-1.7000000000000028\n",
      "2.114999999999995\n",
      "-0.23000000000000398\n",
      "-0.8950000000000031\n",
      "0.11749999999999972\n",
      "0.417500000000004\n",
      "-0.5974999999999966\n",
      "-1.6799999999999997\n",
      "-2.792499999999997\n",
      "11.305000000000007\n",
      "-0.00999999999999801\n",
      "-1.5324999999999989\n",
      "-1.6774999999999949\n",
      "-1.9099999999999966\n",
      "12.142499999999998\n",
      "5.534999999999997\n",
      "-2.447499999999998\n",
      "0.14750000000000085\n",
      "-1.0975000000000037\n",
      "21.162499999999994\n",
      "0.9124999999999943\n",
      "-4.015000000000001\n",
      "-3.6500000000000057\n",
      "36.0975\n",
      "-7.25\n",
      "-0.9300000000000068\n",
      "-11.240000000000009\n",
      "-7.530000000000001\n",
      "-1.8199999999999932\n",
      "-2.6599999999999966\n",
      "-0.5600000000000023\n",
      "13.120000000000005\n",
      "-0.6500000000000057\n",
      "-7.590000000000018\n",
      "-6.86999999999999\n",
      "16.420000000000016\n",
      "-3.1999999999999886\n"
     ]
    }
   ],
   "source": [
    "z = backtest(aaplData, 3, 50)"
   ]
  },
  {
   "cell_type": "code",
   "execution_count": 11,
   "metadata": {},
   "outputs": [
    {
     "data": {
      "text/plain": [
       "54.73446424899997"
      ]
     },
     "execution_count": 11,
     "metadata": {},
     "output_type": "execute_result"
    }
   ],
   "source": [
    "sum(z)"
   ]
  },
  {
   "cell_type": "code",
   "execution_count": 12,
   "metadata": {},
   "outputs": [
    {
     "data": {
      "text/plain": [
       "229"
      ]
     },
     "execution_count": 12,
     "metadata": {},
     "output_type": "execute_result"
    }
   ],
   "source": [
    "len(z)"
   ]
  },
  {
   "cell_type": "code",
   "execution_count": 13,
   "metadata": {},
   "outputs": [
    {
     "data": {
      "text/plain": [
       "36.0975"
      ]
     },
     "execution_count": 13,
     "metadata": {},
     "output_type": "execute_result"
    }
   ],
   "source": [
    "max(z)"
   ]
  },
  {
   "cell_type": "code",
   "execution_count": null,
   "metadata": {},
   "outputs": [],
   "source": []
  }
 ],
 "metadata": {
  "kernelspec": {
   "display_name": "Python 3",
   "language": "python",
   "name": "python3"
  },
  "language_info": {
   "codemirror_mode": {
    "name": "ipython",
    "version": 3
   },
   "file_extension": ".py",
   "mimetype": "text/x-python",
   "name": "python",
   "nbconvert_exporter": "python",
   "pygments_lexer": "ipython3",
   "version": "3.8.5"
  }
 },
 "nbformat": 4,
 "nbformat_minor": 4
}
